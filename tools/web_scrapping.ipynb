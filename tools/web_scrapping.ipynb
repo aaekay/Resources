{
 "cells": [
  {
   "cell_type": "code",
   "execution_count": null,
   "metadata": {},
   "outputs": [],
   "source": [
    "from selenium import webdriver\n",
    "from BeautifulSoup import BeautifulSoup as bs\n",
    "import pandas as pd\n",
    "\n"
   ]
  },
  {
   "cell_type": "code",
   "execution_count": null,
   "metadata": {},
   "outputs": [],
   "source": [
    "driver = webdriver.Chrome(\"/usr/lib/chromium-browser/chromedriver\")"
   ]
  }
 ],
 "metadata": {
  "interpreter": {
   "hash": "5ddfa05c3e5da4d91f7062f481da45f8a01993aa408a7235776ba55aaf829d38"
  },
  "kernelspec": {
   "display_name": "Python 3.8.13 ('name')",
   "language": "python",
   "name": "python3"
  },
  "language_info": {
   "name": "python",
   "version": "3.8.13"
  },
  "orig_nbformat": 4
 },
 "nbformat": 4,
 "nbformat_minor": 2
}
