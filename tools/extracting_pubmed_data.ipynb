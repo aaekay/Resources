{
 "cells": [
  {
   "cell_type": "markdown",
   "metadata": {},
   "source": [
    "# Extracting pubmed data with the help of python\n",
    "[![Open In Colab](https://colab.research.google.com/assets/colab-badge.svg)](https://colab.research.google.com/github/aaekay/Resources/blob/main/tools/extracting_pubmed_data.ipynb)\n",
    "\n",
    "You can follow this code and use it to extract information about the article "
   ]
  },
  {
   "cell_type": "markdown",
   "metadata": {},
   "source": [
    "## We will extract pubmed articles data with the help of pmid\n",
    "pmid is the unique code provided to every pubmed article"
   ]
  },
  {
   "cell_type": "code",
   "execution_count": null,
   "metadata": {},
   "outputs": [],
   "source": [
    "# !pip install pubmed-parser\n",
    "## uncomment the above command and run it to install the library"
   ]
  },
  {
   "cell_type": "code",
   "execution_count": 5,
   "metadata": {},
   "outputs": [],
   "source": [
    "import pubmed_parser as pp\n",
    "import pandas as pd"
   ]
  },
  {
   "cell_type": "markdown",
   "metadata": {},
   "source": [
    "Now we will store all the pmids which we want to retreive with the help of excel and pandas.\n"
   ]
  },
  {
   "cell_type": "code",
   "execution_count": 29,
   "metadata": {},
   "outputs": [],
   "source": [
    "pmid = pd.read_csv(\"pmid.csv\", header =None )\n",
    "pmid = [list(row) for row in pmid.values]"
   ]
  },
  {
   "cell_type": "markdown",
   "metadata": {},
   "source": [
    "dict_out = pp.parse_xml_web(pmid, save_xml=False)"
   ]
  },
  {
   "cell_type": "code",
   "execution_count": 30,
   "metadata": {},
   "outputs": [
    {
     "data": {
      "text/plain": [
       "[[35189806],\n",
       " [35218299],\n",
       " [35185921],\n",
       " [35176117],\n",
       " [35166990],\n",
       " [35150935],\n",
       " [35149593],\n",
       " [35114507],\n",
       " [35112761],\n",
       " [34046351],\n",
       " [35096615],\n",
       " [35091664],\n",
       " [35063306],\n",
       " [35057835],\n",
       " [35048409],\n",
       " [35046476],\n",
       " [35041532],\n",
       " [35023674],\n",
       " [35018440],\n",
       " [35000471]]"
      ]
     },
     "execution_count": 30,
     "metadata": {},
     "output_type": "execute_result"
    }
   ],
   "source": [
    "pmid"
   ]
  },
  {
   "cell_type": "code",
   "execution_count": 31,
   "metadata": {},
   "outputs": [
    {
     "data": {
      "text/plain": [
       "[35218299]"
      ]
     },
     "execution_count": 31,
     "metadata": {},
     "output_type": "execute_result"
    }
   ],
   "source": [
    "pmid[1]"
   ]
  },
  {
   "cell_type": "code",
   "execution_count": null,
   "metadata": {},
   "outputs": [],
   "source": [
    "title = []\n",
    "for i in range(len(pmid)):\n",
    "    dict_out = pp.parse_xml_web(pmid[i], save_xml=False)\n",
    "    title.append(dict_out[\"title\"])\n",
    "\n"
   ]
  },
  {
   "cell_type": "code",
   "execution_count": null,
   "metadata": {},
   "outputs": [],
   "source": [
    "title"
   ]
  },
  {
   "cell_type": "code",
   "execution_count": 20,
   "metadata": {},
   "outputs": [
    {
     "data": {
      "text/plain": [
       "'Hypomyelination with Atrophy of Basal Ganglia and Cerebellum (H-ABC) Due to UFM1 Mutation in Roma Patients - Severe Early Encephalopathy with Stridor and Severe Hearing and Visual Impairment. A Single Center Experience. ADAMTSL4-related ectopia lentis: A case of pseudodominance with an asymptomatic parent.'"
      ]
     },
     "execution_count": 20,
     "metadata": {},
     "output_type": "execute_result"
    }
   ],
   "source": [
    "dict_out[\"title\"]"
   ]
  },
  {
   "cell_type": "markdown",
   "metadata": {},
   "source": [
    "## This methos is without using the pymed library\n"
   ]
  },
  {
   "cell_type": "code",
   "execution_count": 27,
   "metadata": {},
   "outputs": [
    {
     "data": {
      "text/plain": [
       "['35189806',\n",
       " '35218299',\n",
       " '35185921',\n",
       " '35176117',\n",
       " '35166990',\n",
       " '35150935',\n",
       " '35149593',\n",
       " '35114507',\n",
       " '35112761',\n",
       " '34046351',\n",
       " '35096615',\n",
       " '35091664',\n",
       " '35063306',\n",
       " '35057835',\n",
       " '35048409',\n",
       " '35046476',\n",
       " '35041532',\n",
       " '35023674',\n",
       " '35018440',\n",
       " '35000471']"
      ]
     },
     "execution_count": 27,
     "metadata": {},
     "output_type": "execute_result"
    }
   ],
   "source": [
    "list = [str(pmid) for pmid in pmid_list]\n",
    "list"
   ]
  },
  {
   "cell_type": "code",
   "execution_count": 31,
   "metadata": {},
   "outputs": [
    {
     "ename": "KeyboardInterrupt",
     "evalue": "",
     "output_type": "error",
     "traceback": [
      "\u001b[1;31m---------------------------------------------------------------------------\u001b[0m",
      "\u001b[1;31mKeyboardInterrupt\u001b[0m                         Traceback (most recent call last)",
      "\u001b[1;32m~\\AppData\\Local\\Temp/ipykernel_2532/2837326573.py\u001b[0m in \u001b[0;36m<module>\u001b[1;34m\u001b[0m\n\u001b[0;32m     19\u001b[0m \u001b[1;33m\u001b[0m\u001b[0m\n\u001b[0;32m     20\u001b[0m     \u001b[0mdata\u001b[0m \u001b[1;33m=\u001b[0m \u001b[1;33m{\u001b[0m\u001b[1;34m'title'\u001b[0m\u001b[1;33m:\u001b[0m \u001b[0mtitle\u001b[0m\u001b[1;33m,\u001b[0m \u001b[1;34m'pmid'\u001b[0m\u001b[1;33m:\u001b[0m \u001b[0mpmid\u001b[0m\u001b[1;33m,\u001b[0m \u001b[1;34m'url'\u001b[0m\u001b[1;33m:\u001b[0m\u001b[0murl\u001b[0m\u001b[1;33m}\u001b[0m\u001b[1;33m\u001b[0m\u001b[1;33m\u001b[0m\u001b[0m\n\u001b[1;32m---> 21\u001b[1;33m     \u001b[0mtime\u001b[0m\u001b[1;33m.\u001b[0m\u001b[0msleep\u001b[0m\u001b[1;33m(\u001b[0m\u001b[1;36m3\u001b[0m\u001b[1;33m)\u001b[0m\u001b[1;33m\u001b[0m\u001b[1;33m\u001b[0m\u001b[0m\n\u001b[0m\u001b[0;32m     22\u001b[0m     \u001b[0mout\u001b[0m\u001b[1;33m.\u001b[0m\u001b[0mappend\u001b[0m\u001b[1;33m(\u001b[0m\u001b[0mdata\u001b[0m\u001b[1;33m)\u001b[0m\u001b[1;33m\u001b[0m\u001b[1;33m\u001b[0m\u001b[0m\n\u001b[0;32m     23\u001b[0m \u001b[0mdf\u001b[0m \u001b[1;33m=\u001b[0m \u001b[0mpd\u001b[0m\u001b[1;33m.\u001b[0m\u001b[0mDataFrame\u001b[0m\u001b[1;33m(\u001b[0m\u001b[0mout\u001b[0m\u001b[1;33m)\u001b[0m\u001b[1;33m\u001b[0m\u001b[1;33m\u001b[0m\u001b[0m\n",
      "\u001b[1;31mKeyboardInterrupt\u001b[0m: "
     ]
    }
   ],
   "source": [
    "from bs4 import BeautifulSoup\n",
    "import csv\n",
    "import time\n",
    "import requests\n",
    "import pandas as pd\n",
    "\n",
    "pmids = pd.read_csv(\"pmid.csv\", header =None )\n",
    "pmid_list = pmids[0].to_list()\n",
    "pmid_list  = [str(pmid) for pmid in pmid_list]\n",
    "out = []\n",
    "\n",
    "\n",
    "for pmid in pmid_list:\n",
    "    url = 'https://pubmed.ncbi.nlm.nih.gov/'+ pmid\n",
    "    response2 = requests.get(url)\n",
    "    soup2 = BeautifulSoup(response2.content, 'html.parser')\n",
    "\n",
    "    title = soup2.select('h1.heading-title')[0].text.strip()\n",
    "        \n",
    "    data = {'title': title, 'pmid': pmid, 'url':url}\n",
    "    time.sleep(3)\n",
    "    out.append(data)\n",
    "df = pd.DataFrame(out)\n",
    "\n",
    "df.to_excel('my_results.xlsx')"
   ]
  },
  {
   "cell_type": "code",
   "execution_count": 40,
   "metadata": {},
   "outputs": [],
   "source": [
    "out = []\n",
    "url = 'https://pubmed.ncbi.nlm.nih.gov/'+ pmid_list[1]\n",
    "response2 = requests.get(url)\n",
    "soup2 = BeautifulSoup(response2.content, 'html.parser')\n",
    "\n",
    "title = soup2.select('h1.heading-title')[0].text.strip()\n",
    "doi = soup2.select('a.id-link')[0].text.strip()\n",
    "        \n",
    "data = {'title': title, 'pmid': pmid, 'url':url, 'doi': doi}\n",
    "time.sleep(3)\n",
    "out.append(data)"
   ]
  },
  {
   "cell_type": "code",
   "execution_count": 41,
   "metadata": {},
   "outputs": [
    {
     "data": {
      "text/plain": [
       "[{'title': 'ADAMTSL4-related ectopia lentis: A case of pseudodominance with an asymptomatic parent',\n",
       "  'pmid': '35000471',\n",
       "  'url': 'https://pubmed.ncbi.nlm.nih.gov/35218299',\n",
       "  'doi': '10.1002/ajmg.a.62698'}]"
      ]
     },
     "execution_count": 41,
     "metadata": {},
     "output_type": "execute_result"
    }
   ],
   "source": [
    "out"
   ]
  },
  {
   "cell_type": "code",
   "execution_count": null,
   "metadata": {},
   "outputs": [],
   "source": []
  }
 ],
 "metadata": {
  "interpreter": {
   "hash": "227872fd7638373db33c371d97be9b40a3c2203559e72894ef81c1759e881a0a"
  },
  "kernelspec": {
   "display_name": "Python 3.9.5 64-bit ('base': conda)",
   "language": "python",
   "name": "python3"
  },
  "language_info": {
   "codemirror_mode": {
    "name": "ipython",
    "version": 3
   },
   "file_extension": ".py",
   "mimetype": "text/x-python",
   "name": "python",
   "nbconvert_exporter": "python",
   "pygments_lexer": "ipython3",
   "version": "3.9.5"
  },
  "orig_nbformat": 4
 },
 "nbformat": 4,
 "nbformat_minor": 2
}
